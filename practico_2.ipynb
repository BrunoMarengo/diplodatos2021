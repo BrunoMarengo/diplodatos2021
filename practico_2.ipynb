{
 "cells": [
  {
   "cell_type": "markdown",
   "id": "331afd94-6481-4621-b958-0a0611e39a72",
   "metadata": {},
   "source": [
    "# DiploDatos 2021 - Predecir próxima compra de un usuario\n",
    "\n",
    "## Práctico 2 - Análisis Exploratorio y Curación de Datos\n",
    "\n",
    "### Consigna:\n",
    "\n",
    "En general el dataset está bastante curado. Sin embargo, en caso de ser aplicable se propone analizar e implementar los siguientes puntos:\n",
    "\n",
    "- **[Obligatorio]** División del problema por sites (Brasil (MLB) y México(MLM))\n",
    "- **[Obligatorio]** División del set de datos en train, validación y test.\n",
    "- Eliminar resgistros duplicados.\n",
    "- Manejo de outliers.\n",
    "- Manejo de datos faltantes (nulos).\n",
    "- Creación de features preliminares.\n",
    "- En caso de considerar que no son aplicables al problema a resolver, descartar registros.\n",
    "- En el caso de los campos de texto, se propone implementar los siguientes preprocesamientos:\n",
    "  - **[Obligatorio]** Todo a minúscula.\n",
    "  - **[Obligatorio]** Tokenizar.\n",
    "  - **[Obligatorio]** Eliminar stopwords.\n",
    "  - **[Obligatorio]** Eliminar signos de puntuación.\n",
    "  - Aplicar stemming.\n",
    "  - Aplicar lemmatization.\n",
    "  - Eliminar símbolos y caracteres especiales que se consideren no aportan significado semántico.\n",
    "  \n",
    "Para la aprobación del práctico, se considerarán solo los puntos marcados con el label **[Obligatorio]**, dejando los otros puntos como sugerencias a criterio según las ideas de modelado futuro."
   ]
  },
  {
   "cell_type": "code",
   "execution_count": null,
   "id": "ae438d6d-bd79-4950-a5db-c67bc4c85320",
   "metadata": {},
   "outputs": [],
   "source": []
  }
 ],
 "metadata": {
  "kernelspec": {
   "display_name": "Python 3",
   "language": "python",
   "name": "python3"
  },
  "language_info": {
   "codemirror_mode": {
    "name": "ipython",
    "version": 3
   },
   "file_extension": ".py",
   "mimetype": "text/x-python",
   "name": "python",
   "nbconvert_exporter": "python",
   "pygments_lexer": "ipython3",
   "version": "3.9.0"
  }
 },
 "nbformat": 4,
 "nbformat_minor": 5
}
