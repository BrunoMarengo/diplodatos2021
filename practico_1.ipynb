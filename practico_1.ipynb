{
 "cells": [
  {
   "cell_type": "markdown",
   "id": "cc350e96-d28f-4619-b9ee-15c7506027ec",
   "metadata": {},
   "source": [
    "# DiploDatos 2021 - Predecir próxima compra de un usuario\n",
    "\n",
    "## Práctico 1 - Análisis y Visualización\n",
    "\n",
    "### Consigna:\n",
    "\n",
    "Mediante el uso de estadística descriptiva básica y herramientas de visualización tales como boxplots, barplots, correlaciones, histogramas, wordclouds, etc; se propone dar respuesta a las siguientes preguntas:\n",
    "\n",
    "- ¿Que cantidad de ítems únicos conforman mi target?\n",
    "\n",
    "- ¿Cuántos ítems mira un usuario antes de realizar una compra?\n",
    "\n",
    "- ¿Cuántas búsquedas realiza un usuario antes de realizar una compra?\n",
    "\n",
    "- ¿Qué proporción de los ítems vistos corresponden a la categoría del ítem finalmente comprado?\n",
    "\n",
    "- ¿Cuántas categorías recorre un usuario hasta comprar un item?\n",
    "\n",
    "- ¿Cómo se relacionan los precios de los ítems vistos con el ítem comprado?\n",
    "\n",
    "- ¿Cuántas veces aparece el ítem comprado en nuestro historial de navegación?\n"
   ]
  },
  {
   "cell_type": "code",
   "execution_count": null,
   "id": "1b827eb5-6148-4daa-ad07-ef65f6c6ef4b",
   "metadata": {},
   "outputs": [],
   "source": []
  }
 ],
 "metadata": {
  "kernelspec": {
   "display_name": "Python 3",
   "language": "python",
   "name": "python3"
  },
  "language_info": {
   "codemirror_mode": {
    "name": "ipython",
    "version": 3
   },
   "file_extension": ".py",
   "mimetype": "text/x-python",
   "name": "python",
   "nbconvert_exporter": "python",
   "pygments_lexer": "ipython3",
   "version": "3.9.0"
  }
 },
 "nbformat": 4,
 "nbformat_minor": 5
}
